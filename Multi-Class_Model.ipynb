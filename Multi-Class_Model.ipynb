{
 "cells": [
  {
   "cell_type": "code",
   "execution_count": 1,
   "metadata": {},
   "outputs": [
    {
     "name": "stderr",
     "output_type": "stream",
     "text": [
      "Using TensorFlow backend.\n"
     ]
    }
   ],
   "source": [
    "%load_ext autoreload\n",
    "%autoreload 2\n",
    "import os\n",
    "import data_prep as dp\n",
    "import numpy as np\n",
    "import pandas as pd\n",
    "import matplotlib.pyplot as plt\n",
    "import seaborn as sns\n",
    "\n",
    "import imgaug as ia\n",
    "import imgaug.augmenters as iaa\n",
    "import cv2\n",
    "\n",
    "import tensorflow as tf\n",
    "import keras\n",
    "from keras.preprocessing.image import ImageDataGenerator\n",
    "from keras import backend as K\n",
    "from keras.models import Sequential, load_model\n",
    "from keras.layers import Dense, Conv2D, Flatten, MaxPool2D\n",
    "from keras.optimizers import Adam,SGD,Adagrad,Adadelta,RMSprop\n",
    "from keras.utils import to_categorical"
   ]
  },
  {
   "cell_type": "markdown",
   "metadata": {},
   "source": [
    "# Modelling\n",
    "\n",
    "In this notebook I will build a baseline model and then show which different layers can affect them.\n",
    "Training takes sometime (especially if not using the cloud) so it has been hashed out."
   ]
  },
  {
   "cell_type": "code",
   "execution_count": 2,
   "metadata": {},
   "outputs": [],
   "source": [
    "# Set the environment seed for Python\n",
    "os.environ['PYTHONHASHSEED'] = '0'\n",
    "\n",
    "seed=101\n",
    "\n",
    "# Set seed for Numpy\n",
    "np.random.seed(seed)"
   ]
  },
  {
   "cell_type": "markdown",
   "metadata": {},
   "source": [
    "## Read in Data"
   ]
  },
  {
   "cell_type": "markdown",
   "metadata": {},
   "source": [
    "### Train"
   ]
  },
  {
   "cell_type": "code",
   "execution_count": 173,
   "metadata": {},
   "outputs": [
    {
     "data": {
      "text/plain": [
       "2    2196\n",
       "0    1249\n",
       "1    1179\n",
       "Name: class, dtype: int64"
      ]
     },
     "execution_count": 173,
     "metadata": {},
     "output_type": "execute_result"
    }
   ],
   "source": [
    "# Find and label each image according to class\n",
    "filer = dp.Files()\n",
    "normal = filer.find_files('Docs/all_xrays/train/normal', \"0001\").files\n",
    "virus = filer.find_files('Docs/all_xrays/train/virus', \"virus\").files\n",
    "bacteria = filer.find_files('Docs/all_xrays/train/bacteria', \"bacteria\").files\n",
    "\n",
    "# Use a list comprehension to get a complete list of files and their corresponding labels\n",
    "train_dataset = [(i,0) for i in normal]\n",
    "train_dataset += [(i,1) for i in virus]\n",
    "train_dataset += [(i,2) for i in bacteria]\n",
    "\n",
    "# Convert list to dataframe        \n",
    "df_train = pd.DataFrame(train_dataset, columns=(\"file\",\"class\"))\n",
    "df_train['class'] = df_train['class'].astype(dtype='category')\n",
    "\n",
    "# Check the number of files in each class \n",
    "df_train['class'].value_counts() # 0 = Normal; 1 = Virus; 2 = Bacteria\n"
   ]
  },
  {
   "cell_type": "code",
   "execution_count": 175,
   "metadata": {},
   "outputs": [
    {
     "data": {
      "text/plain": [
       "(1249, 1179, 2196)"
      ]
     },
     "execution_count": 175,
     "metadata": {},
     "output_type": "execute_result"
    }
   ],
   "source": [
    "len(normal),len(virus),len(bacteria)"
   ]
  },
  {
   "cell_type": "code",
   "execution_count": 3,
   "metadata": {},
   "outputs": [
    {
     "name": "stdout",
     "output_type": "stream",
     "text": [
      "Total number of train examples:  (4625, 224, 224, 3)\n",
      "Total number of labels: (4625, 3)\n"
     ]
    }
   ],
   "source": [
    "directory='Docs/all_xrays/train/'\n",
    "subfolders=['normal','virus','bacteria']\n",
    "class_labels=[0,1,2]\n",
    "\n",
    "train_data, train_labels = dp.image_data_and_labels('.jpeg',directory,subfolders,class_labels)\n",
    "\n",
    "print(\"Total number of train examples: \", train_data.shape)\n",
    "print(\"Total number of labels:\", train_labels.shape)"
   ]
  },
  {
   "cell_type": "markdown",
   "metadata": {},
   "source": [
    "### Validation\n",
    "We need a validation dataset so we can check for overfitting during training as cross-validation requires re-training per k-fold and would be far too time consuming for a neural network."
   ]
  },
  {
   "cell_type": "code",
   "execution_count": 91,
   "metadata": {},
   "outputs": [
    {
     "data": {
      "text/plain": [
       "2    27\n",
       "0    15\n",
       "1    14\n",
       "Name: class, dtype: int64"
      ]
     },
     "execution_count": 91,
     "metadata": {},
     "output_type": "execute_result"
    }
   ],
   "source": [
    "# Same as for training data\n",
    "# Find and label each image according to class\n",
    "\n",
    "normal = filer.find_files('Docs/all_xrays/val/normal', \"0001\").files\n",
    "virus = filer.find_files('Docs/all_xrays/val/virus', \"virus\").files\n",
    "bacteria = filer.find_files('Docs/all_xrays/val/bacteria', \"bacteria\").files\n",
    "\n",
    "# Use a list comprehension to get a complete list of files and their corresponding labels\n",
    "validation_dataset = [(i,0) for i in normal]\n",
    "validation_dataset += [(i,1) for i in virus]\n",
    "validation_dataset += [(i,2) for i in bacteria]\n",
    "\n",
    "# Convert list to dataframe        \n",
    "df_val = pd.DataFrame(validation_dataset, columns=(\"file\",\"class\"))\n",
    "df_val['class'] = df_val['class'].astype(dtype='category')\n",
    "\n",
    "# Check the number of files in each class \n",
    "df_val['class'].value_counts() # 0 = Normal; 1 = Virus; 2 = Bacteria\n"
   ]
  },
  {
   "cell_type": "code",
   "execution_count": 7,
   "metadata": {},
   "outputs": [
    {
     "name": "stdout",
     "output_type": "stream",
     "text": [
      "Total number of validation examples:  (56, 224, 224, 3)\n",
      "Total number of labels: (56, 3)\n"
     ]
    }
   ],
   "source": [
    "directory='Docs/all_xrays/val/'\n",
    "subfolders=['normal','virus','bacteria']\n",
    "class_labels=[0,1,2] # Allows changing of problem from binary or multi-class\n",
    "\n",
    "# Reads the image location and directory, converts data to array and labels the class accordingly\n",
    "val_data, val_labels = dp.image_data_and_labels('.jpeg',directory,subfolders,class_labels)\n",
    "\n",
    "print(\"Total number of validation examples: \", val_data.shape)\n",
    "print(\"Total number of labels:\", val_labels.shape)"
   ]
  },
  {
   "cell_type": "markdown",
   "metadata": {},
   "source": [
    "## Building the Model\n",
    "I will be using the VGG16 neural network as this has been pre-trained on ImageNet (dataset of over 14 million images), achieving 92.7% accuracy. It surpasses AlexNet network by replacing large filters of size 11 and 5 in the first and second convolution layers with small size 3x3 filters."
   ]
  },
  {
   "cell_type": "markdown",
   "metadata": {},
   "source": [
    "### Basic Model\n",
    "This will be a baseline model as it has a simple structure with no dropout, batch normalization or separable convolutional. It conists of 2D convolutions and a max pooling layer as well as initial transfer learning from VGG16.\n",
    "\n",
    "Neural Networks are greedy learners - meaning they often require lots of data to achieve high success. Transfer learning is a useful tool when dealing with smaller data sets such as this as it can provide the neural network with the ability to recognise certain features such as edges and colours.\n",
    "\n",
    "I will also specify the learning rate of the optimiser, here in this case it is set at 0.001. If our training loss begins to explode (increase rapidly), we will have likely overshot the global minimum and as a result should reduce the learning rate. If we find the loss is not decreasing substantially over several epochs it could be a sign to increase the learning rate."
   ]
  },
  {
   "cell_type": "code",
   "execution_count": 9,
   "metadata": {},
   "outputs": [],
   "source": [
    "from keras.applications.vgg16 import VGG16\n",
    "vggmodel = VGG16()"
   ]
  },
  {
   "cell_type": "markdown",
   "metadata": {},
   "source": [
    "### Initial (Baseline) Model"
   ]
  },
  {
   "cell_type": "code",
   "execution_count": 10,
   "metadata": {},
   "outputs": [],
   "source": [
    "# model = Sequential()\n",
    "\n",
    "\n",
    "# # VGG16 first few layers - currently not \"frozen\".\n",
    "# model.add(VGG16(include_top=False, input_shape=(224,224,3)).layers[0])\n",
    "# model.add(VGG16(include_top=False, input_shape=(224,224,3)).layers[1])\n",
    "# model.add(VGG16(include_top=False, input_shape=(224,224,3)).layers[2])\n",
    "# model.add(VGG16(include_top=False, input_shape=(224,224,3)).layers[3])\n",
    "\n",
    "# # First 2D convolutions (x3) then max pooling. Produces 256 filters.\n",
    "# model.add(Conv2D(filters=256, kernel_size=(3,3), padding=\"same\", activation=\"relu\", name='Conv1_1'))\n",
    "# model.add(Conv2D(filters=256, kernel_size=(3,3), padding=\"same\", activation=\"relu\", name='Conv1_2'))\n",
    "# model.add(Conv2D(filters=256, kernel_size=(3,3), padding=\"same\", activation=\"relu\", name='Conv1_3'))\n",
    "# model.add(MaxPool2D(pool_size=(2,2),strides=(2,2), name='Pool1'))\n",
    "\n",
    "# # Second 2D convolutions (x3) then max pooling. Produces 512 filters.\n",
    "# model.add(Conv2D(filters=512, kernel_size=(3,3), padding=\"same\", activation=\"relu\", name='Conv2_1'))\n",
    "# model.add(Conv2D(filters=512, kernel_size=(3,3), padding=\"same\", activation=\"relu\", name='Conv2_2'))\n",
    "# model.add(Conv2D(filters=512, kernel_size=(3,3), padding=\"same\", activation=\"relu\", name='Conv2_3'))\n",
    "# model.add(MaxPool2D(pool_size=(2,2),strides=(2,2), name='Pool2'))\n",
    "\n",
    "# # Thirds 2D convolutions (x3) then max pooling. Produces 512 filters.\n",
    "# model.add(Conv2D(filters=512, kernel_size=(3,3), padding=\"same\", activation=\"relu\", name='Conv3_1'))\n",
    "# model.add(Conv2D(filters=512, kernel_size=(3,3), padding=\"same\", activation=\"relu\", name='Conv3_2'))\n",
    "# model.add(Conv2D(filters=512, kernel_size=(3,3), padding=\"same\", activation=\"relu\", name='Conv3_3'))\n",
    "# model.add(MaxPool2D(pool_size=(2,2),strides=(2,2), name='Pool3'))\n",
    "\n",
    "# # Flatten all weights into one layer - this produces the largest number of parameters\n",
    "# # Further reduce the units (number of neurons) before using a final softmax layer to produce our 3 outputs (classes)\n",
    "# model.add(Flatten(name=\"Flatten\"))\n",
    "# model.add(Dense(units=1024, activation=\"relu\", name='Dense1'))\n",
    "# model.add(Dense(units=512, activation=\"relu\", name='Dense2'))\n",
    "# model.add(Dense(units=3, activation=\"softmax\", name='Result'))"
   ]
  },
  {
   "cell_type": "markdown",
   "metadata": {},
   "source": [
    "### \"Improved\" Model"
   ]
  },
  {
   "cell_type": "markdown",
   "metadata": {},
   "source": [
    "This model has been optimised:\n",
    "* There are additional convolution layers with more filters\n",
    "* Same transfer learning from VGG16\n",
    "* Batch Normalization\n",
    "* Dropout Layers\n",
    "\n",
    "This has been performed after training many different models and comparing the training and validation accuracies. This has not been compared to any of the Test data."
   ]
  },
  {
   "cell_type": "code",
   "execution_count": 172,
   "metadata": {},
   "outputs": [],
   "source": [
    "from keras.layers import SeparableConv2D, BatchNormalization, Dropout\n",
    "\n",
    "model = Sequential()\n",
    "\n",
    "size=(224,224)\n",
    "\n",
    "# VGG16 first few layers - currently not \"frozen\".\n",
    "model.add(VGG16(include_top=False, input_shape=(224,224,3)).layers[0])\n",
    "model.add(VGG16(include_top=False, input_shape=(224,224,3)).layers[1])\n",
    "model.add(VGG16(include_top=False, input_shape=(224,224,3)).layers[2])\n",
    "model.add(VGG16(include_top=False, input_shape=(224,224,3)).layers[3])\n",
    "\n",
    "# Convolutions - SeperableConvolution2D uses fewer parameters than Conv2D (64 filters)\n",
    "model.add(SeparableConv2D(filters=64, kernel_size=(3,3), padding=\"same\", activation=\"relu\", name='Conv1_1'))\n",
    "model.add(SeparableConv2D(filters=64, kernel_size=(3,3), padding=\"same\", activation=\"relu\", name='Conv1_2'))\n",
    "model.add(MaxPool2D(pool_size=(2,2),strides=(2,2), name='Pool1'))\n",
    "\n",
    "# Convolutions (128 filters)\n",
    "model.add(SeparableConv2D(filters=128, kernel_size=(3,3), padding=\"same\", activation=\"relu\", name='Conv2_1'))\n",
    "model.add(SeparableConv2D(filters=128, kernel_size=(3,3), padding=\"same\", activation=\"relu\", name='Conv2_2'))\n",
    "model.add(MaxPool2D(pool_size=(2,2),strides=(2,2), name='Pool2'))\n",
    "\n",
    "# Convolutions (128 filters)\n",
    "model.add(SeparableConv2D(filters=128, kernel_size=(3,3), padding=\"same\", activation=\"relu\", name='Conv3_1'))\n",
    "model.add(SeparableConv2D(filters=128, kernel_size=(3,3), padding=\"same\", activation=\"relu\", name='Conv3_2'))\n",
    "model.add(MaxPool2D(pool_size=(2,2),strides=(2,2), name='Pool3'))\n",
    "\n",
    "# Convolutions (256 filters) + Batch Normalization for Adaptive Histogram Equalization (maintains normal distribution)\n",
    "model.add(SeparableConv2D(filters=256, kernel_size=(3,3), padding=\"same\", activation=\"relu\", name='Conv4_1'))\n",
    "model.add(BatchNormalization())\n",
    "model.add(SeparableConv2D(filters=256, kernel_size=(3,3), padding=\"same\", activation=\"relu\", name='Conv4_2'))\n",
    "model.add(BatchNormalization())\n",
    "model.add(MaxPool2D(pool_size=(2,2),strides=(2,2), name='Pool4'))\n",
    "\n",
    "# Convolutions (256 filters) + Batch Normalization\n",
    "model.add(SeparableConv2D(filters=256, kernel_size=(3,3), padding=\"same\", activation=\"relu\", name='Conv5_1'))\n",
    "model.add(BatchNormalization())\n",
    "model.add(SeparableConv2D(filters=256, kernel_size=(3,3), padding=\"same\", activation=\"relu\", name='Conv5_2'))\n",
    "model.add(BatchNormalization())\n",
    "model.add(MaxPool2D(pool_size=(2,2),strides=(2,2), name='Pool5'))\n",
    "\n",
    "# Convolutions (512 filters) + Batch Normalization  + Dropout (20%) to help reduce overfitting\n",
    "model.add(SeparableConv2D(filters=512, kernel_size=(3,3), padding=\"same\", activation=\"relu\", name='Conv6_1'))\n",
    "model.add(BatchNormalization())\n",
    "model.add(SeparableConv2D(filters=512, kernel_size=(3,3), padding=\"same\", activation=\"relu\", name='Conv6_2'))\n",
    "model.add(BatchNormalization())\n",
    "model.add(MaxPool2D(pool_size=(2,2),strides=(2,2), name='Pool6'))\n",
    "model.add(Dropout(0.2))\n",
    "\n",
    "# Final layer - Flatten all paramaters into one layer of 1024 nodes decreasing to 512 and then 3 output nodes + Dropouts\n",
    "model.add(Flatten(name=\"Flatten\"))\n",
    "model.add(Dense(units=1024,activation=\"relu\", name='Dense1'))\n",
    "model.add(Dropout(0.2))\n",
    "model.add(Dense(units=512,activation=\"relu\", name='Dense2'))\n",
    "model.add(Dropout(0.2))\n",
    "model.add(Dense(units=3, activation=\"softmax\", name='Result'))"
   ]
  },
  {
   "cell_type": "code",
   "execution_count": 149,
   "metadata": {},
   "outputs": [
    {
     "name": "stdout",
     "output_type": "stream",
     "text": [
      "Model: \"sequential_15\"\n",
      "_________________________________________________________________\n",
      "Layer (type)                 Output Shape              Param #   \n",
      "=================================================================\n",
      "block1_conv1 (Conv2D)        (None, 224, 224, 64)      1792      \n",
      "_________________________________________________________________\n",
      "block1_conv2 (Conv2D)        (None, 224, 224, 64)      36928     \n",
      "_________________________________________________________________\n",
      "block1_pool (MaxPooling2D)   (None, 112, 112, 64)      0         \n",
      "_________________________________________________________________\n",
      "Conv1_1 (SeparableConv2D)    (None, 112, 112, 64)      4736      \n",
      "_________________________________________________________________\n",
      "Conv1_2 (SeparableConv2D)    (None, 112, 112, 64)      4736      \n",
      "_________________________________________________________________\n",
      "Pool1 (MaxPooling2D)         (None, 56, 56, 64)        0         \n",
      "_________________________________________________________________\n",
      "Conv2_1 (SeparableConv2D)    (None, 56, 56, 128)       8896      \n",
      "_________________________________________________________________\n",
      "Conv2_2 (SeparableConv2D)    (None, 56, 56, 128)       17664     \n",
      "_________________________________________________________________\n",
      "Pool2 (MaxPooling2D)         (None, 28, 28, 128)       0         \n",
      "_________________________________________________________________\n",
      "Conv3_1 (SeparableConv2D)    (None, 28, 28, 128)       17664     \n",
      "_________________________________________________________________\n",
      "Conv3_2 (SeparableConv2D)    (None, 28, 28, 128)       17664     \n",
      "_________________________________________________________________\n",
      "Pool3 (MaxPooling2D)         (None, 14, 14, 128)       0         \n",
      "_________________________________________________________________\n",
      "Conv4_1 (SeparableConv2D)    (None, 14, 14, 256)       34176     \n",
      "_________________________________________________________________\n",
      "batch_normalization_64 (Batc (None, 14, 14, 256)       1024      \n",
      "_________________________________________________________________\n",
      "Conv4_2 (SeparableConv2D)    (None, 14, 14, 256)       68096     \n",
      "_________________________________________________________________\n",
      "batch_normalization_65 (Batc (None, 14, 14, 256)       1024      \n",
      "_________________________________________________________________\n",
      "Pool4 (MaxPooling2D)         (None, 7, 7, 256)         0         \n",
      "_________________________________________________________________\n",
      "Conv5_1 (SeparableConv2D)    (None, 7, 7, 256)         68096     \n",
      "_________________________________________________________________\n",
      "batch_normalization_66 (Batc (None, 7, 7, 256)         1024      \n",
      "_________________________________________________________________\n",
      "Conv5_2 (SeparableConv2D)    (None, 7, 7, 256)         68096     \n",
      "_________________________________________________________________\n",
      "batch_normalization_67 (Batc (None, 7, 7, 256)         1024      \n",
      "_________________________________________________________________\n",
      "Pool5 (MaxPooling2D)         (None, 3, 3, 256)         0         \n",
      "_________________________________________________________________\n",
      "Conv6_1 (SeparableConv2D)    (None, 3, 3, 512)         133888    \n",
      "_________________________________________________________________\n",
      "batch_normalization_68 (Batc (None, 3, 3, 512)         2048      \n",
      "_________________________________________________________________\n",
      "Conv6_2 (SeparableConv2D)    (None, 3, 3, 512)         267264    \n",
      "_________________________________________________________________\n",
      "batch_normalization_69 (Batc (None, 3, 3, 512)         2048      \n",
      "_________________________________________________________________\n",
      "Pool6 (MaxPooling2D)         (None, 1, 1, 512)         0         \n",
      "_________________________________________________________________\n",
      "dropout_24 (Dropout)         (None, 1, 1, 512)         0         \n",
      "_________________________________________________________________\n",
      "Flatten (Flatten)            (None, 512)               0         \n",
      "_________________________________________________________________\n",
      "dropout_25 (Dropout)         (None, 512)               0         \n",
      "_________________________________________________________________\n",
      "Dense1 (Dense)               (None, 1024)              525312    \n",
      "_________________________________________________________________\n",
      "Dense2 (Dense)               (None, 512)               524800    \n",
      "_________________________________________________________________\n",
      "Result (Dense)               (None, 3)                 1539      \n",
      "=================================================================\n",
      "Total params: 1,809,539\n",
      "Trainable params: 1,766,723\n",
      "Non-trainable params: 42,816\n",
      "_________________________________________________________________\n"
     ]
    }
   ],
   "source": [
    "# Freezing the initial layers (VGG16) to prevent training and allow transfer learning to our model.\n",
    "\n",
    "for layer in model.layers[:3]:\n",
    "    layer.trainable=False\n",
    "\n",
    "# See the full model architecture, image shape + number of filters and the number of parameters in each layer.\n",
    "# Fewer parameters reduces training time.\n",
    "model.summary()"
   ]
  },
  {
   "cell_type": "markdown",
   "metadata": {},
   "source": [
    "### Define Augmentations"
   ]
  },
  {
   "cell_type": "code",
   "execution_count": 150,
   "metadata": {},
   "outputs": [],
   "source": [
    "ia.seed(seed)\n",
    "\n",
    "seq = iaa.OneOf(random_state=seed,          # Chooses one of the below augmentations\n",
    "                children=[\n",
    "                iaa.Affine(rotate=(-5,5)),  # Size of rotation range in degrees\n",
    "                iaa.Crop(percent=(0, 0.05)),# Percent of image cropped           \n",
    "                iaa.Multiply((0.8, 1.2)),   # Makes pixels darker or brighter, random amount between 1.2 and 1.5\n",
    "                ])\n",
    "\n",
    "\n",
    "# It is better to start simple and slowly build up both the data generator and model to avoid overcomplicating things.\n",
    "# This allows the user to more easily identify what changes produce which results."
   ]
  },
  {
   "cell_type": "markdown",
   "metadata": {},
   "source": [
    "### Define Optimizer, Early Stopping and Checkpoint Parameters and Compile Model"
   ]
  },
  {
   "cell_type": "code",
   "execution_count": 169,
   "metadata": {},
   "outputs": [],
   "source": [
    "# If in local minima while training, Adam optimiser will help get out of local minima and reach global minimum.\n",
    "from keras.optimizers import Adam\n",
    "from keras.callbacks import ModelCheckpoint, EarlyStopping\n",
    "\n",
    "# Checkpoint to save weights for each epoch. \n",
    "checkpoint = ModelCheckpoint(\"baseline.h5\", monitor='val_acc', verbose=1, save_best_only=True, save_weights_only=False, mode='auto', period=1)\n",
    "# Will stop training if no decrease in validation loss over 20 epochs (patience)\n",
    "early = EarlyStopping(monitor='val_loss', min_delta=0, patience=20, verbose=1, mode='auto')\n",
    "\n",
    "# Initial learning rate - affects the rate of gradient descent. Increase if loss does not reduce.\n",
    "opt = Adam(lr=0.005) \n",
    "# Compiles model for training. As we are looking at categorical classes we use categorical cross-entropy loss function.\n",
    "# Accuracy will be evaluated and displayed at the end of each epoch.\n",
    "model.compile(optimizer=opt, loss=keras.losses.categorical_crossentropy, metrics=['accuracy'])"
   ]
  },
  {
   "cell_type": "markdown",
   "metadata": {},
   "source": [
    "### Begin Training"
   ]
  },
  {
   "cell_type": "code",
   "execution_count": 171,
   "metadata": {},
   "outputs": [],
   "source": [
    "# Number of images in each batch (save on RAM) and number of steps to cycle through all available images.\n",
    "batch_size = 16\n",
    "steps = len(df_train)/batch_size\n",
    "\n",
    "# Fit model and begin training. Save the accuracy and loss for each epoch as 'hist' for plotting later\n",
    "hist = model.fit_generator(steps_per_epoch = steps, \n",
    "                           generator = dp.data_generator_3class(df_train,batch_size,'Docs/all_xrays/train/'),\n",
    "                           validation_data = (val_data,val_labels), epochs=40, callbacks = [checkpoint, early])\n",
    "\n"
   ]
  },
  {
   "cell_type": "markdown",
   "metadata": {},
   "source": [
    "### Save Model"
   ]
  },
  {
   "cell_type": "code",
   "execution_count": 95,
   "metadata": {},
   "outputs": [],
   "source": [
    "# Save the weights of the model as an h5 file. Save only when necessary as files are LARGE! (Github limit=2GB)\n",
    "\n",
    "# model.save('Baseline_Model_10steps.h5')\n"
   ]
  },
  {
   "cell_type": "markdown",
   "metadata": {},
   "source": [
    "### Visualize Training"
   ]
  },
  {
   "cell_type": "code",
   "execution_count": 108,
   "metadata": {},
   "outputs": [
    {
     "data": {
      "image/png": "[encoded data removed]",
      "text/plain": [
       "<Figure size 432x288 with 2 Axes>"
      ]
     },
     "metadata": {
      "needs_background": "light"
     },
     "output_type": "display_data"
    }
   ],
   "source": [
    "# Plot the accuracy and loss for the training and validation steps for every epoch.\n",
    "# Reveals how much the model is improving and an idea of overfitting \n",
    "# If val_loss decreases while training increases - OVERFITTING\n",
    "\n",
    "fig, (ax1,ax2) = plt.subplots(nrows=2,sharex='col',)\n",
    "\n",
    "ax1.plot(hist.history[\"accuracy\"])\n",
    "ax1.plot(hist.history['val_accuracy'])\n",
    "ax2.plot(hist.history['loss'])\n",
    "ax2.plot(hist.history['val_loss'])\n",
    "ax2.set_xlabel(\"Epochs\")\n",
    "ax1.legend([\"Accuracy\",\"Validation Accuracy\"])\n",
    "ax2.legend([\"loss\",\"Validation Loss\"])\n",
    "ax1.set_ylabel(\"Accuracy\")\n",
    "ax2.set_ylabel('Loss')\n",
    "plt.show()\n",
    "# plt.savefig(\"Multi_SepConv_80val.png\")"
   ]
  },
  {
   "cell_type": "markdown",
   "metadata": {},
   "source": [
    "From the above plot one can see the accuracy for the training set is steadily improving while the validation accuracy is dropping off after the 26th epoch. This implies the model is overfitting and that the weights from an earlier epoch (25th) should be loaded when testing the model as these are the best performing weights before overfitting."
   ]
  },
  {
   "cell_type": "markdown",
   "metadata": {},
   "source": [
    "Once finished adjusting model and training, try testing the models weights in the Testing_Model Notebook."
   ]
  }
 ],
 "metadata": {
  "kernelspec": {
   "display_name": "Python 3",
   "language": "python",
   "name": "python3"
  },
  "language_info": {
   "codemirror_mode": {
    "name": "ipython",
    "version": 3
   },
   "file_extension": ".py",
   "mimetype": "text/x-python",
   "name": "python",
   "nbconvert_exporter": "python",
   "pygments_lexer": "ipython3",
   "version": "3.5.3"
  }
 },
 "nbformat": 4,
 "nbformat_minor": 4
}
